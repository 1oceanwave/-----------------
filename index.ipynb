{
 "cells": [
  {
   "cell_type": "code",
   "execution_count": 3,
   "metadata": {},
   "outputs": [
    {
     "name": "stdout",
     "output_type": "stream",
     "text": [
      "Общая выручка магазина: 500452228.0\n",
      "Товар, проданный наибольшее количество раз: Lay's guakomole\n",
      "Товар, принесший наибольшую выручку: PC ZXC i9-14900kf/4090\n",
      "nОтчет по категориям:\n",
      "Категория            Продано              Выручка              Доля выручки        \n",
      "Еда                  64467                10232748.00          2.0                 %\n",
      "Микрофоны            1505                 36179000.00          7.2                 %\n",
      "ПК                   1277                 247472000.00         49.4                %\n",
      "Техника              2082                 206568480.00         41.3                %\n"
     ]
    }
   ],
   "source": [
    "import csv\n",
    "from collections import defaultdict\n",
    "\n",
    "# Считывание данных из CSV-файла\n",
    "with open('sales_data.csv', 'r', encoding='utf-8') as file:\n",
    "    reader = csv.reader(file)\n",
    "    next(reader)  # Пропуск заголовка\n",
    "    data = list(reader)\n",
    "\n",
    "# Рассчет общей выручки магазина\n",
    "total_revenue = 0\n",
    "for row in data:\n",
    "    try:\n",
    "        total_revenue += float(row[6])\n",
    "    except IndexError:\n",
    "        pass\n",
    "\n",
    "# Поиск товара, проданного наибольшее количество раз (быстрая сортировка)\n",
    "data.sort(key=lambda x: int(x[4]), reverse=True)\n",
    "max_sales = data[0][4]\n",
    "best_selling_item = data[0][2]\n",
    "\n",
    "# Поиск товара, принесшего наибольшую выручку (бинарный поиск)\n",
    "data.sort(key=lambda x: float(x[6]), reverse=True)\n",
    "max_revenue = data[0][6]\n",
    "most_profitable_item = data[0][2]\n",
    "\n",
    "# Составление отчета (сортировка пузырьком)\n",
    "data.sort(key=lambda x: x[3])\n",
    "report = defaultdict(lambda: [0, 0])  # Хеш-таблица для подсчета продаж и выручки по категориям\n",
    "for row in data:\n",
    "    item = row[2]\n",
    "    category = row[3]\n",
    "    sales = int(row[4])\n",
    "    revenue = float(row[6])\n",
    "    report[category][0] += sales\n",
    "    report[category][1] += revenue\n",
    "report_list = []\n",
    "for category, values in report.items():\n",
    "    sales, revenue = values\n",
    "    sales_percentage = revenue / total_revenue * 100\n",
    "    report_list.append([category, sales, revenue, sales_percentage])\n",
    "\n",
    "# Вывод отчета\n",
    "print(\"Общая выручка магазина:\", total_revenue)\n",
    "print(\"Товар, проданный наибольшее количество раз:\", best_selling_item)\n",
    "print(\"Товар, принесший наибольшую выручку:\", most_profitable_item)\n",
    "print(\"nОтчет по категориям:\")\n",
    "print(\"{:<20} {:<20} {:<20} {:<20}\".format(\"Категория\", \"Продано\", \"Выручка\", \"Доля выручки\"))\n",
    "for row in report_list:\n",
    "    print(\"{:<20} {:<20} {:<20.2f} {:<20.1f}%\".format(*row))\n"
   ]
  }
 ],
 "metadata": {
  "kernelspec": {
   "display_name": ".venv",
   "language": "python",
   "name": "python3"
  },
  "language_info": {
   "codemirror_mode": {
    "name": "ipython",
    "version": 3
   },
   "file_extension": ".py",
   "mimetype": "text/x-python",
   "name": "python",
   "nbconvert_exporter": "python",
   "pygments_lexer": "ipython3",
   "version": "3.12.3"
  }
 },
 "nbformat": 4,
 "nbformat_minor": 2
}
